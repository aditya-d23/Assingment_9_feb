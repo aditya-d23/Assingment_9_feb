{
 "cells": [
  {
   "cell_type": "markdown",
   "id": "5cf5f39d-4ed9-4a87-8409-0f630fa313d7",
   "metadata": {},
   "source": [
    "Q1, Create a vehicle class with an init method having instance variables as name_of_vehicle, max_speed \n",
    "and average_of_vehicle."
   ]
  },
  {
   "cell_type": "code",
   "execution_count": 9,
   "id": "6ef151e0-e9fd-404f-bab7-f5100a749e5d",
   "metadata": {},
   "outputs": [],
   "source": [
    "class vehicle:\n",
    "    def __init__(self,name_of_vehicle,max_speed,average_of_vehicle):\n",
    "        self.name_of_vehicle=name_of_vehicle\n",
    "        self.max_speed=max_speed\n",
    "        self.average_of_vehicle=average_of_vehicle"
   ]
  },
  {
   "cell_type": "markdown",
   "id": "68663fc2-ab5b-422b-a7b8-3a285a5c36a9",
   "metadata": {},
   "source": [
    "Q2.  Create a child class car from the vehicle class created in Que 1, which will inherit the vehicle class. \n",
    "Create a method named seating_capacity which takes capacity as an argument and returns the name of \n",
    "the vehicle and its seating capacity."
   ]
  },
  {
   "cell_type": "code",
   "execution_count": 10,
   "id": "74a1d9ce-5e71-47be-9d16-737a2216ed41",
   "metadata": {},
   "outputs": [],
   "source": [
    "class car(vehicle):\n",
    "    def seating_capacity(self,capacity):\n",
    "        self.capacity=capacity\n",
    "        return self.name_of_vehicle"
   ]
  },
  {
   "cell_type": "code",
   "execution_count": 11,
   "id": "d0a2249d-762e-4746-982f-5037dbaeb6b2",
   "metadata": {},
   "outputs": [],
   "source": [
    "c1=car(\"swift\",45,20)"
   ]
  },
  {
   "cell_type": "code",
   "execution_count": 12,
   "id": "be0ea3d1-00e0-4e81-b840-b9da5cdcd813",
   "metadata": {},
   "outputs": [
    {
     "data": {
      "text/plain": [
       "'swift'"
      ]
     },
     "execution_count": 12,
     "metadata": {},
     "output_type": "execute_result"
    }
   ],
   "source": [
    "c1.seating_capacity(23)"
   ]
  },
  {
   "cell_type": "markdown",
   "id": "c79695fc-85ce-45d1-91db-38dcf4f79753",
   "metadata": {},
   "source": [
    "Q3. What is multiple inheritance? Write a python code to demonstrate multiple inheritance."
   ]
  },
  {
   "cell_type": "code",
   "execution_count": 13,
   "id": "4cde9431-6506-4bf0-b617-d6e05d4c6f10",
   "metadata": {},
   "outputs": [],
   "source": [
    "class car:\n",
    "    def __init__(self,name,speed,limit):\n",
    "        self.name=name\n",
    "        self.speed=speed\n",
    "        self.limit=limit\n",
    "        \n",
    "class maruti(car):\n",
    "    def name(self):\n",
    "        return self.name\n",
    "class swiftDesire(car):\n",
    "    def features(self):\n",
    "        pass"
   ]
  },
  {
   "cell_type": "markdown",
   "id": "2c0f6aea-c883-4674-b5d9-05ad1edaa0ee",
   "metadata": {},
   "source": [
    "Ans- Multiple inheritance is the inheritance where different classes inheriting from the single class and where different classes are acquiring the property of same class."
   ]
  },
  {
   "cell_type": "markdown",
   "id": "336dac02-e2d3-4756-adc4-8d42a46908b1",
   "metadata": {},
   "source": [
    "Q4. What are getter and setter in python? Create a class and create a getter and a setter method in this \n",
    "class."
   ]
  },
  {
   "cell_type": "markdown",
   "id": "0d5cc922-f2b0-4dc4-a23e-7c787048aa56",
   "metadata": {},
   "source": [
    "Getter: A method that allows you to access an attribute in a given class\n",
    "Setter: A method that allows you to set or mutate the value of an attribute in a class"
   ]
  },
  {
   "cell_type": "code",
   "execution_count": 14,
   "id": "99920a80-84e5-40c5-9985-0d4dff945f96",
   "metadata": {},
   "outputs": [],
   "source": [
    "class Label:\n",
    "    def __init__(self, text, font):\n",
    "        self._text = text\n",
    "        self._font = font\n",
    "\n",
    "    def get_text(self):\n",
    "        return self._text\n",
    "\n",
    "    def set_text(self, value):\n",
    "        self._text = value\n",
    "\n",
    "    def get_font(self):\n",
    "        return self._font\n",
    "\n",
    "    def set_font(self, value):\n",
    "        self._font = value"
   ]
  },
  {
   "cell_type": "markdown",
   "id": "2ad283cb-a986-4dc5-8022-6eee242fdb23",
   "metadata": {},
   "source": [
    "Q5.What is method overriding in python? Write a python code to demonstrate method overriding."
   ]
  },
  {
   "cell_type": "markdown",
   "id": "bfddbd2e-2b3c-4b79-9a07-60c76f45c300",
   "metadata": {},
   "source": [
    "Method overriding is an ability of any object-oriented programming language that allows a subclass or child class to provide a specific implementation of a method that is already provided by one of its super-classes or parent classes. When a method in a subclass has the same name, same parameters or signature and same return type(or sub-type) as a method in its super-class, then the method in the subclass is said to override the method in the super-class."
   ]
  },
  {
   "cell_type": "code",
   "execution_count": 10,
   "id": "097fef08-1709-4ee9-9fb8-7ded8f22f4ed",
   "metadata": {},
   "outputs": [],
   "source": [
    "class parent:\n",
    "    def __init__(self,name,year):\n",
    "        self.name=name\n",
    "        self.year=year\n",
    "    \n",
    "    def show(self):\n",
    "        print(\"You are under the parent\")"
   ]
  },
  {
   "cell_type": "code",
   "execution_count": 11,
   "id": "f38a482e-a587-4be4-ad8b-de03fbea4275",
   "metadata": {},
   "outputs": [],
   "source": [
    "class child(parent):\n",
    "    def __init__(self):\n",
    "        pass\n",
    "    def show(self):\n",
    "        print(\"You are under the child\")"
   ]
  },
  {
   "cell_type": "code",
   "execution_count": 12,
   "id": "516babc6-69e8-47dc-872b-4eb259969144",
   "metadata": {},
   "outputs": [],
   "source": [
    "p1=parent(\"xyz\",2023)"
   ]
  },
  {
   "cell_type": "code",
   "execution_count": 13,
   "id": "0dbc66bf-85cd-4600-9a1c-6512424fae6c",
   "metadata": {},
   "outputs": [
    {
     "name": "stdout",
     "output_type": "stream",
     "text": [
      "You are under the parent\n"
     ]
    }
   ],
   "source": [
    "p1.show()"
   ]
  },
  {
   "cell_type": "code",
   "execution_count": 14,
   "id": "7219cb51-6441-495a-97f5-291dfff770b2",
   "metadata": {},
   "outputs": [
    {
     "name": "stdout",
     "output_type": "stream",
     "text": [
      "You are under the child\n"
     ]
    }
   ],
   "source": [
    "c1=child()\n",
    "c1.show()"
   ]
  },
  {
   "cell_type": "code",
   "execution_count": null,
   "id": "dbbca8c8-ab78-4189-992e-8768e4fbb326",
   "metadata": {},
   "outputs": [],
   "source": []
  }
 ],
 "metadata": {
  "kernelspec": {
   "display_name": "Python 3 (ipykernel)",
   "language": "python",
   "name": "python3"
  },
  "language_info": {
   "codemirror_mode": {
    "name": "ipython",
    "version": 3
   },
   "file_extension": ".py",
   "mimetype": "text/x-python",
   "name": "python",
   "nbconvert_exporter": "python",
   "pygments_lexer": "ipython3",
   "version": "3.10.6"
  }
 },
 "nbformat": 4,
 "nbformat_minor": 5
}
